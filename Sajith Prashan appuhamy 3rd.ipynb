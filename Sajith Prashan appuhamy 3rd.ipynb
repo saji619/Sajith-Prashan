{
 "cells": [
  {
   "cell_type": "markdown",
   "id": "d42360b7-ee4f-4e6b-9e5a-dd22e15b5e96",
   "metadata": {},
   "source": [
    "# Assignment 3\n",
    "# 2024-09-18\n",
    "# **SAJITH PRASHAN APPUHAMY RANASINGHA ARACHCHILAGE **"
   ]
  },
  {
   "cell_type": "markdown",
   "id": "c08d4914-5315-41b4-a383-6bcf3eb3355b",
   "metadata": {},
   "source": [
    "#### 1. Write a lambda expression to get the productof two numbers. Run test for expression(5,6) \n",
    "##### Output:30"
   ]
  },
  {
   "cell_type": "code",
   "execution_count": 13,
   "id": "afaaa818-06b0-4b80-b560-131c8c45d371",
   "metadata": {},
   "outputs": [
    {
     "name": "stdout",
     "output_type": "stream",
     "text": [
      "Output : 30\n"
     ]
    }
   ],
   "source": [
    "multiply = lambda x,y: x * y\n",
    "sum = multiply (5,6)\n",
    "print(\"Output :\",sum)"
   ]
  },
  {
   "cell_type": "markdown",
   "id": "baf26c4a-2619-4905-ac28-5fd6fabced6b",
   "metadata": {},
   "source": [
    "#### 2. Write a function to get the area of a circle from the radius. Hint: remember to import the right modul for being able to calculte the area of the circle. Run test for function (10) \n",
    "##### Output: 314.1592653589793"
   ]
  },
  {
   "cell_type": "code",
   "execution_count": 5,
   "id": "2eff44d4-9a63-4acc-92ec-23083b774f83",
   "metadata": {},
   "outputs": [
    {
     "name": "stdout",
     "output_type": "stream",
     "text": [
      "Output : 314.1592653589793\n"
     ]
    }
   ],
   "source": [
    "import math\n",
    "def circle(radius):\n",
    "    return math.pi * radius ** 2\n",
    "test = circle(10)\n",
    "print(\"Output :\",test)"
   ]
  },
  {
   "cell_type": "markdown",
   "id": "5e910c5a-1e4a-41ae-bea0-62e3bb4022fe",
   "metadata": {},
   "source": [
    "#### 3. Build a simple calculator which can:add, subtract, multiply, divide. Hint: solve by writing a function that takes as argument two numbers and the operation and returns the desired output. Run test for function (2,5,’d’) \n",
    "##### Output: 0.4"
   ]
  },
  {
   "cell_type": "code",
   "execution_count": 7,
   "id": "f5bd222a-35fb-4a0f-bf60-01cc8188c163",
   "metadata": {},
   "outputs": [
    {
     "name": "stdout",
     "output_type": "stream",
     "text": [
      "Output : 0.4\n"
     ]
    }
   ],
   "source": [
    "def calculator(num1, num2, numX):\n",
    "    if numX == 'a':  \n",
    "        return num1 + num2\n",
    "    elif numX == 's':  \n",
    "        return num1 - num2\n",
    "    elif numX == 'm':  \n",
    "        return num1 * num2\n",
    "    elif numX == 'd':  \n",
    "        return num1 / num2 \n",
    "    else:\n",
    "        return None \n",
    "        \n",
    "output = calculator(2, 5, 'd')\n",
    "print(\"Output :\",output)\n"
   ]
  },
  {
   "cell_type": "markdown",
   "id": "0e207fd9-8264-4c62-bc6b-fcea462151c6",
   "metadata": {},
   "source": [
    "#### 4. Define a class named Rectangle which can be constructed by a length and width. The Rectangle class has a method which can compute the area. Run test for r = Rectangle(5,10)  r.area() \n",
    "##### Output: 50"
   ]
  },
  {
   "cell_type": "code",
   "execution_count": 9,
   "id": "12288d23-a87b-425b-804e-349e13f30d0f",
   "metadata": {},
   "outputs": [
    {
     "name": "stdout",
     "output_type": "stream",
     "text": [
      "Output : 50\n"
     ]
    }
   ],
   "source": [
    "class Rectangle:\n",
    "    def __init__(self, length, width):\n",
    "        self.length = length\n",
    "        self.width = width\n",
    "\n",
    "    def area(self):\n",
    "        return self.length * self.width\n",
    "\n",
    "r = Rectangle(5, 10)\n",
    "print(\"Output :\",r.area())  "
   ]
  },
  {
   "cell_type": "markdown",
   "id": "00a06e64-25c5-42f0-afe2-dcc4d3140aa4",
   "metadata": {},
   "source": [
    "#### 5. Define a class named Shape and its subclass Square. Shapeobjects can be consrtucted by name andlengthhas an area function wich return 0. Square subclass has an init function which take a length and name as argumentand has anarea method and a describe method what prints the name of the Shape. Print the area from Square class. Run test for:s = Square('square',5) print(s.area()) print(s.describe()) \n",
    "##### Output: The area is: 25 \n",
    "##### This is a: square"
   ]
  },
  {
   "cell_type": "code",
   "execution_count": 11,
   "id": "55bcb920-3fef-4a07-8672-6ee7e7520d37",
   "metadata": {},
   "outputs": [
    {
     "name": "stdout",
     "output_type": "stream",
     "text": [
      "The area is: 25\n",
      "This is a: square\n"
     ]
    }
   ],
   "source": [
    "class Shape:\n",
    "    def __init__(self, name, length):\n",
    "        self.name = name\n",
    "        self.length = length\n",
    "\n",
    "    def area(self):\n",
    "        return 0\n",
    "\n",
    "class Square(Shape):\n",
    "    def __init__(self, name, length):\n",
    "        super().__init__(name, length)\n",
    "\n",
    "    def area(self):\n",
    "        return self.length ** 2\n",
    "\n",
    "    def describe(self):\n",
    "        return f\"This is a: {self.name}\"\n",
    "\n",
    "s = Square('square', 5)\n",
    "print(f\"The area is: {s.area()}\") \n",
    "print(s.describe()) "
   ]
  },
  {
   "cell_type": "code",
   "execution_count": null,
   "id": "2f4ed3d7-9d7a-4177-a49b-287894cf695c",
   "metadata": {},
   "outputs": [],
   "source": []
  }
 ],
 "metadata": {
  "kernelspec": {
   "display_name": "Python 3 (ipykernel)",
   "language": "python",
   "name": "python3"
  },
  "language_info": {
   "codemirror_mode": {
    "name": "ipython",
    "version": 3
   },
   "file_extension": ".py",
   "mimetype": "text/x-python",
   "name": "python",
   "nbconvert_exporter": "python",
   "pygments_lexer": "ipython3",
   "version": "3.12.4"
  }
 },
 "nbformat": 4,
 "nbformat_minor": 5
}
